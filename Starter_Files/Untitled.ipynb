{
 "cells": [
  {
   "cell_type": "code",
   "execution_count": null,
   "id": "8d87863d",
   "metadata": {},
   "outputs": [],
   "source": [
    "import json\n",
    "dict_values = []\n",
    "\n",
    "#convert_data = json.loads( contact_info_df)\n",
    "for i, row in contact_info_df.iterrows():\n",
    "    data = row['contact_info']\n",
    "    convert_data = json.loads(data)\n",
    "    row_values = [v for k , v in convert_data.items() ]\n",
    "    dict_values.append(row_values)\n",
    "# Print out the list of values for each row.\n",
    "print(dict_values)\n",
    "data\n",
    "row_values "
   ]
  },
  {
   "cell_type": "code",
   "execution_count": null,
   "id": "ce5da37b",
   "metadata": {},
   "outputs": [],
   "source": [
    "import json\n",
    "dict_values = []\n",
    "for i, row in contact_info_df.iterrows():\n",
    "    data = row[0]\n",
    "    converted_data = json.loads(data)\n",
    "    # Iterate through each dictionary (row) and get the values for each row using list comprehension.\n",
    "    row_values = [v for k, v in converted_data.items()]\n",
    "    # Append the list of values for each row to a list. \n",
    "    dict_values.append(row_values)"
   ]
  }
 ],
 "metadata": {
  "kernelspec": {
   "display_name": "Python 3 (ipykernel)",
   "language": "python",
   "name": "python3"
  },
  "language_info": {
   "codemirror_mode": {
    "name": "ipython",
    "version": 3
   },
   "file_extension": ".py",
   "mimetype": "text/x-python",
   "name": "python",
   "nbconvert_exporter": "python",
   "pygments_lexer": "ipython3",
   "version": "3.9.13"
  }
 },
 "nbformat": 4,
 "nbformat_minor": 5
}
